{
 "cells": [
  {
   "cell_type": "code",
   "execution_count": 27,
   "id": "025b78cf-2ae2-4b3b-ae55-74729efbe57e",
   "metadata": {},
   "outputs": [
    {
     "name": "stdout",
     "output_type": "stream",
     "text": [
      "  % Total    % Received % Xferd  Average Speed   Time    Time     Time  Current\n",
      "                                 Dload  Upload   Total   Spent    Left  Speed\n",
      "100 39.9M  100 39.9M    0     0  7378k      0  0:00:05  0:00:05 --:--:-- 9616k\n",
      "env: PATH=/root/miniconda3/bin:/usr/local/bin:/usr/local/nvidia/bin:/usr/local/cuda/bin:/usr/local/sbin:/usr/local/bin:/usr/sbin:/usr/bin:/sbin:/bin:./ffmpeg-7.0.2-amd64-static\n",
      "\n",
      "./ffmpeg-7.0.2-amd64-static/ffmpeg\n",
      "Done!\n"
     ]
    }
   ],
   "source": [
    "conda install ffmpeg"
   ]
  },
  {
   "cell_type": "code",
   "execution_count": 23,
   "id": "b0328005-6f4e-4138-8566-e0957b33b704",
   "metadata": {},
   "outputs": [],
   "source": [
    "%reset -f"
   ]
  },
  {
   "cell_type": "code",
   "execution_count": 35,
   "id": "7eee0504-f2c1-45c3-8675-427874757be1",
   "metadata": {},
   "outputs": [
    {
     "name": "stdout",
     "output_type": "stream",
     "text": [
      "\u001b[2mAudited \u001b[1m1 package\u001b[0m \u001b[2min 2ms\u001b[0m\u001b[0m\n"
     ]
    }
   ],
   "source": [
    "!UV_TORCH_BACKEND=auto uv pip install torch"
   ]
  },
  {
   "cell_type": "code",
   "execution_count": 1,
   "id": "190d9517-7078-48eb-85f1-25f3c8f6f01f",
   "metadata": {},
   "outputs": [
    {
     "name": "stdout",
     "output_type": "stream",
     "text": [
      "Looking in indexes: http://mirrors.aliyun.com/pypi/simple\n",
      "Requirement already satisfied: pickleshare in ./miniconda3/lib/python3.10/site-packages (0.7.5)\n",
      "\u001b[33mWARNING: Running pip as the 'root' user can result in broken permissions and conflicting behaviour with the system package manager. It is recommended to use a virtual environment instead: https://pip.pypa.io/warnings/venv\u001b[0m\u001b[33m\n",
      "\u001b[0mNote: you may need to restart the kernel to use updated packages.\n"
     ]
    }
   ],
   "source": [
    "pip install pickleshare"
   ]
  },
  {
   "cell_type": "code",
   "execution_count": 2,
   "id": "d251e15d-10b1-4305-bbde-3afcfa4c8086",
   "metadata": {},
   "outputs": [],
   "source": [
    "%reset -f"
   ]
  },
  {
   "cell_type": "code",
   "execution_count": 3,
   "id": "e92f90cc-32c5-496c-b297-4c2da3627daa",
   "metadata": {},
   "outputs": [
    {
     "name": "stdout",
     "output_type": "stream",
     "text": [
      "/root/lerobot\n"
     ]
    }
   ],
   "source": [
    "import os\n",
    "\n",
    "if not os.path.exists(\"/root/lerobot\"):\n",
    "    !git clone https://github.com/raiscui/lerobot.git\n",
    "%cd /root/lerobot"
   ]
  },
  {
   "cell_type": "code",
   "execution_count": 4,
   "id": "f92b2b96-9342-4c4c-b7ec-2503b7779af6",
   "metadata": {
    "editable": true,
    "slideshow": {
     "slide_type": ""
    },
    "tags": []
   },
   "outputs": [
    {
     "name": "stdout",
     "output_type": "stream",
     "text": [
      "Looking in indexes: http://mirrors.aliyun.com/pypi/simple\n",
      "Requirement already satisfied: uv in /root/miniconda3/lib/python3.10/site-packages (0.6.14)\n",
      "\u001b[33mWARNING: Running pip as the 'root' user can result in broken permissions and conflicting behaviour with the system package manager. It is recommended to use a virtual environment instead: https://pip.pypa.io/warnings/venv\u001b[0m\u001b[33m\n",
      "\u001b[0mNote: you may need to restart the kernel to use updated packages.\n"
     ]
    }
   ],
   "source": [
    "pip install uv"
   ]
  },
  {
   "cell_type": "code",
   "execution_count": 5,
   "id": "e4101149-527b-4015-8677-be9861873ace",
   "metadata": {},
   "outputs": [],
   "source": [
    "%reset -f"
   ]
  },
  {
   "cell_type": "code",
   "execution_count": 11,
   "id": "8b8bc083-c287-4533-85fd-1bceb8567fdb",
   "metadata": {},
   "outputs": [
    {
     "name": "stdout",
     "output_type": "stream",
     "text": [
      "/root/lerobot\n",
      "\u001b[2mResolved \u001b[1m317 packages\u001b[0m \u001b[2min 1ms\u001b[0m\u001b[0m\n",
      "\u001b[2mAudited \u001b[1m128 packages\u001b[0m \u001b[2min 0.18ms\u001b[0m\u001b[0m\n"
     ]
    }
   ],
   "source": [
    "%cd /root/lerobot\n",
    "!source .venv/bin/activate\n",
    "!uv sync --extra feetech"
   ]
  },
  {
   "cell_type": "code",
   "execution_count": 8,
   "id": "62a1df65-719e-4f9f-80d8-9b1e78c9bbab",
   "metadata": {},
   "outputs": [
    {
     "name": "stdout",
     "output_type": "stream",
     "text": [
      "mkdir: cannot create directory ‘/root/.cache’: File exists\n"
     ]
    }
   ],
   "source": [
    "%mkdir ~/hf_home"
   ]
  },
  {
   "cell_type": "code",
   "execution_count": 10,
   "id": "c6f3e49d-de9a-4b1a-b912-ae2b65476289",
   "metadata": {
    "editable": true,
    "scrolled": true,
    "slideshow": {
     "slide_type": ""
    },
    "tags": []
   },
   "outputs": [
    {
     "name": "stdout",
     "output_type": "stream",
     "text": [
      "Archive:  /root/huggingface.zip\n",
      "   creating: /root/hf_home/huggingface/\n",
      "  inflating: /root/hf_home/__MACOSX/._huggingface  \n",
      "   creating: /root/hf_home/huggingface/lerobot/\n",
      "  inflating: /root/hf_home/__MACOSX/huggingface/._lerobot  \n",
      "  inflating: /root/hf_home/huggingface/.DS_Store  \n",
      "  inflating: /root/hf_home/__MACOSX/huggingface/._.DS_Store  \n",
      "  inflating: /root/hf_home/huggingface/lerobot/.DS_Store  \n",
      "  inflating: /root/hf_home/__MACOSX/huggingface/lerobot/._.DS_Store  \n",
      "   creating: /root/hf_home/huggingface/lerobot/rais/\n",
      "  inflating: /root/hf_home/__MACOSX/huggingface/lerobot/._rais  \n",
      "  inflating: /root/hf_home/huggingface/lerobot/rais/.DS_Store  \n",
      "  inflating: /root/hf_home/__MACOSX/huggingface/lerobot/rais/._.DS_Store  \n",
      "   creating: /root/hf_home/huggingface/lerobot/rais/so100_test/\n",
      "  inflating: /root/hf_home/__MACOSX/huggingface/lerobot/rais/._so100_test  \n",
      "  inflating: /root/hf_home/huggingface/lerobot/rais/so100_test/.DS_Store  \n",
      "  inflating: /root/hf_home/__MACOSX/huggingface/lerobot/rais/so100_test/._.DS_Store  \n",
      "   creating: /root/hf_home/huggingface/lerobot/rais/so100_test/meta/\n",
      "  inflating: /root/hf_home/__MACOSX/huggingface/lerobot/rais/so100_test/._meta  \n",
      "   creating: /root/hf_home/huggingface/lerobot/rais/so100_test/videos/\n",
      "  inflating: /root/hf_home/__MACOSX/huggingface/lerobot/rais/so100_test/._videos  \n",
      "   creating: /root/hf_home/huggingface/lerobot/rais/so100_test/data/\n",
      "  inflating: /root/hf_home/__MACOSX/huggingface/lerobot/rais/so100_test/._data  \n",
      "  inflating: /root/hf_home/huggingface/lerobot/rais/so100_test/meta/episodes_stats.jsonl  \n",
      "  inflating: /root/hf_home/__MACOSX/huggingface/lerobot/rais/so100_test/meta/._episodes_stats.jsonl  \n",
      "  inflating: /root/hf_home/huggingface/lerobot/rais/so100_test/meta/info.json  \n",
      "  inflating: /root/hf_home/__MACOSX/huggingface/lerobot/rais/so100_test/meta/._info.json  \n",
      "  inflating: /root/hf_home/huggingface/lerobot/rais/so100_test/meta/tasks.jsonl  \n",
      "  inflating: /root/hf_home/__MACOSX/huggingface/lerobot/rais/so100_test/meta/._tasks.jsonl  \n",
      "  inflating: /root/hf_home/huggingface/lerobot/rais/so100_test/meta/episodes.jsonl  \n",
      "  inflating: /root/hf_home/__MACOSX/huggingface/lerobot/rais/so100_test/meta/._episodes.jsonl  \n",
      "  inflating: /root/hf_home/huggingface/lerobot/rais/so100_test/videos/.DS_Store  \n",
      "  inflating: /root/hf_home/__MACOSX/huggingface/lerobot/rais/so100_test/videos/._.DS_Store  \n",
      "   creating: /root/hf_home/huggingface/lerobot/rais/so100_test/videos/chunk-000/\n",
      "  inflating: /root/hf_home/__MACOSX/huggingface/lerobot/rais/so100_test/videos/._chunk-000  \n",
      "  inflating: /root/hf_home/huggingface/lerobot/rais/so100_test/data/.DS_Store  \n",
      "  inflating: /root/hf_home/__MACOSX/huggingface/lerobot/rais/so100_test/data/._.DS_Store  \n",
      "   creating: /root/hf_home/huggingface/lerobot/rais/so100_test/data/chunk-000/\n",
      "  inflating: /root/hf_home/__MACOSX/huggingface/lerobot/rais/so100_test/data/._chunk-000  \n",
      "  inflating: /root/hf_home/huggingface/lerobot/rais/so100_test/videos/chunk-000/.DS_Store  \n",
      "  inflating: /root/hf_home/__MACOSX/huggingface/lerobot/rais/so100_test/videos/chunk-000/._.DS_Store  \n",
      "   creating: /root/hf_home/huggingface/lerobot/rais/so100_test/videos/chunk-000/observation.images.hand/\n",
      "  inflating: /root/hf_home/__MACOSX/huggingface/lerobot/rais/so100_test/videos/chunk-000/._observation.images.hand  \n",
      "  inflating: /root/hf_home/huggingface/lerobot/rais/so100_test/data/chunk-000/episode_000005.parquet  \n",
      "  inflating: /root/hf_home/__MACOSX/huggingface/lerobot/rais/so100_test/data/chunk-000/._episode_000005.parquet  \n",
      "  inflating: /root/hf_home/huggingface/lerobot/rais/so100_test/data/chunk-000/episode_000004.parquet  \n",
      "  inflating: /root/hf_home/__MACOSX/huggingface/lerobot/rais/so100_test/data/chunk-000/._episode_000004.parquet  \n",
      "  inflating: /root/hf_home/huggingface/lerobot/rais/so100_test/data/chunk-000/episode_000006.parquet  \n",
      "  inflating: /root/hf_home/__MACOSX/huggingface/lerobot/rais/so100_test/data/chunk-000/._episode_000006.parquet  \n",
      "  inflating: /root/hf_home/huggingface/lerobot/rais/so100_test/data/chunk-000/episode_000007.parquet  \n",
      "  inflating: /root/hf_home/__MACOSX/huggingface/lerobot/rais/so100_test/data/chunk-000/._episode_000007.parquet  \n",
      "  inflating: /root/hf_home/huggingface/lerobot/rais/so100_test/data/chunk-000/episode_000002.parquet  \n",
      "  inflating: /root/hf_home/__MACOSX/huggingface/lerobot/rais/so100_test/data/chunk-000/._episode_000002.parquet  \n",
      "  inflating: /root/hf_home/huggingface/lerobot/rais/so100_test/data/chunk-000/episode_000003.parquet  \n",
      "  inflating: /root/hf_home/__MACOSX/huggingface/lerobot/rais/so100_test/data/chunk-000/._episode_000003.parquet  \n",
      "  inflating: /root/hf_home/huggingface/lerobot/rais/so100_test/data/chunk-000/episode_000001.parquet  \n",
      "  inflating: /root/hf_home/__MACOSX/huggingface/lerobot/rais/so100_test/data/chunk-000/._episode_000001.parquet  \n",
      "  inflating: /root/hf_home/huggingface/lerobot/rais/so100_test/data/chunk-000/episode_000011.parquet  \n",
      "  inflating: /root/hf_home/__MACOSX/huggingface/lerobot/rais/so100_test/data/chunk-000/._episode_000011.parquet  \n",
      "  inflating: /root/hf_home/huggingface/lerobot/rais/so100_test/data/chunk-000/episode_000008.parquet  \n",
      "  inflating: /root/hf_home/__MACOSX/huggingface/lerobot/rais/so100_test/data/chunk-000/._episode_000008.parquet  \n",
      "  inflating: /root/hf_home/huggingface/lerobot/rais/so100_test/data/chunk-000/episode_000009.parquet  \n",
      "  inflating: /root/hf_home/__MACOSX/huggingface/lerobot/rais/so100_test/data/chunk-000/._episode_000009.parquet  \n",
      "  inflating: /root/hf_home/huggingface/lerobot/rais/so100_test/data/chunk-000/episode_000010.parquet  \n",
      "  inflating: /root/hf_home/__MACOSX/huggingface/lerobot/rais/so100_test/data/chunk-000/._episode_000010.parquet  \n",
      "  inflating: /root/hf_home/huggingface/lerobot/rais/so100_test/data/chunk-000/episode_000000.parquet  \n",
      "  inflating: /root/hf_home/__MACOSX/huggingface/lerobot/rais/so100_test/data/chunk-000/._episode_000000.parquet  \n",
      "  inflating: /root/hf_home/huggingface/lerobot/rais/so100_test/videos/chunk-000/observation.images.hand/episode_000009.mp4  \n",
      "  inflating: /root/hf_home/__MACOSX/huggingface/lerobot/rais/so100_test/videos/chunk-000/observation.images.hand/._episode_000009.mp4  \n",
      "  inflating: /root/hf_home/huggingface/lerobot/rais/so100_test/videos/chunk-000/observation.images.hand/episode_000008.mp4  \n",
      "  inflating: /root/hf_home/__MACOSX/huggingface/lerobot/rais/so100_test/videos/chunk-000/observation.images.hand/._episode_000008.mp4  \n",
      "  inflating: /root/hf_home/huggingface/lerobot/rais/so100_test/videos/chunk-000/observation.images.hand/episode_000000.mp4  \n",
      "  inflating: /root/hf_home/__MACOSX/huggingface/lerobot/rais/so100_test/videos/chunk-000/observation.images.hand/._episode_000000.mp4  \n",
      "  inflating: /root/hf_home/huggingface/lerobot/rais/so100_test/videos/chunk-000/observation.images.hand/episode_000001.mp4  \n",
      "  inflating: /root/hf_home/__MACOSX/huggingface/lerobot/rais/so100_test/videos/chunk-000/observation.images.hand/._episode_000001.mp4  \n",
      "  inflating: /root/hf_home/huggingface/lerobot/rais/so100_test/videos/chunk-000/observation.images.hand/episode_000003.mp4  \n",
      "  inflating: /root/hf_home/__MACOSX/huggingface/lerobot/rais/so100_test/videos/chunk-000/observation.images.hand/._episode_000003.mp4  \n",
      "  inflating: /root/hf_home/huggingface/lerobot/rais/so100_test/videos/chunk-000/observation.images.hand/episode_000002.mp4  \n",
      "  inflating: /root/hf_home/__MACOSX/huggingface/lerobot/rais/so100_test/videos/chunk-000/observation.images.hand/._episode_000002.mp4  \n",
      "  inflating: /root/hf_home/huggingface/lerobot/rais/so100_test/videos/chunk-000/observation.images.hand/episode_000006.mp4  \n",
      "  inflating: /root/hf_home/__MACOSX/huggingface/lerobot/rais/so100_test/videos/chunk-000/observation.images.hand/._episode_000006.mp4  \n",
      "  inflating: /root/hf_home/huggingface/lerobot/rais/so100_test/videos/chunk-000/observation.images.hand/episode_000007.mp4  \n",
      "  inflating: /root/hf_home/__MACOSX/huggingface/lerobot/rais/so100_test/videos/chunk-000/observation.images.hand/._episode_000007.mp4  \n",
      "  inflating: /root/hf_home/huggingface/lerobot/rais/so100_test/videos/chunk-000/observation.images.hand/episode_000005.mp4  \n",
      "  inflating: /root/hf_home/__MACOSX/huggingface/lerobot/rais/so100_test/videos/chunk-000/observation.images.hand/._episode_000005.mp4  \n",
      "  inflating: /root/hf_home/huggingface/lerobot/rais/so100_test/videos/chunk-000/observation.images.hand/episode_000011.mp4  \n",
      "  inflating: /root/hf_home/__MACOSX/huggingface/lerobot/rais/so100_test/videos/chunk-000/observation.images.hand/._episode_000011.mp4  \n",
      "  inflating: /root/hf_home/huggingface/lerobot/rais/so100_test/videos/chunk-000/observation.images.hand/episode_000010.mp4  \n",
      "  inflating: /root/hf_home/__MACOSX/huggingface/lerobot/rais/so100_test/videos/chunk-000/observation.images.hand/._episode_000010.mp4  \n",
      "  inflating: /root/hf_home/huggingface/lerobot/rais/so100_test/videos/chunk-000/observation.images.hand/episode_000004.mp4  \n",
      "  inflating: /root/hf_home/__MACOSX/huggingface/lerobot/rais/so100_test/videos/chunk-000/observation.images.hand/._episode_000004.mp4  \n"
     ]
    }
   ],
   "source": [
    "!unzip -o ~/huggingface.zip -d ~/hf_home"
   ]
  },
  {
   "cell_type": "code",
   "execution_count": 20,
   "id": "681872ee-b226-4ff8-919f-464cedee7c04",
   "metadata": {
    "editable": true,
    "slideshow": {
     "slide_type": ""
    },
    "tags": []
   },
   "outputs": [
    {
     "name": "stdout",
     "output_type": "stream",
     "text": [
      "env: HF_HOME=~/hf_home/huggingface\n"
     ]
    }
   ],
   "source": [
    "%env HF_HOME=~/hf_home/huggingface"
   ]
  },
  {
   "cell_type": "code",
   "execution_count": 36,
   "id": "4268b402-0b2d-4614-9ad8-7bedf66fba4f",
   "metadata": {
    "editable": true,
    "slideshow": {
     "slide_type": ""
    },
    "tags": []
   },
   "outputs": [
    {
     "name": "stdout",
     "output_type": "stream",
     "text": [
      "INFO 2025-04-12 13:33:30 ts/train.py:111 {'batch_size': 8,\n",
      " 'dataset': {'episodes': None,\n",
      "             'image_transforms': {'enable': False,\n",
      "                                  'max_num_transforms': 3,\n",
      "                                  'random_order': False,\n",
      "                                  'tfs': {'brightness': {'kwargs': {'brightness': [0.8,\n",
      "                                                                                   1.2]},\n",
      "                                                         'type': 'ColorJitter',\n",
      "                                                         'weight': 1.0},\n",
      "                                          'contrast': {'kwargs': {'contrast': [0.8,\n",
      "                                                                               1.2]},\n",
      "                                                       'type': 'ColorJitter',\n",
      "                                                       'weight': 1.0},\n",
      "                                          'hue': {'kwargs': {'hue': [-0.05,\n",
      "                                                                     0.05]},\n",
      "                                                  'type': 'ColorJitter',\n",
      "                                                  'weight': 1.0},\n",
      "                                          'saturation': {'kwargs': {'saturation': [0.5,\n",
      "                                                                                   1.5]},\n",
      "                                                         'type': 'ColorJitter',\n",
      "                                                         'weight': 1.0},\n",
      "                                          'sharpness': {'kwargs': {'sharpness': [0.5,\n",
      "                                                                                 1.5]},\n",
      "                                                        'type': 'SharpnessJitter',\n",
      "                                                        'weight': 1.0}}},\n",
      "             'repo_id': 'rais/so100_test',\n",
      "             'revision': None,\n",
      "             'root': None,\n",
      "             'use_imagenet_stats': True,\n",
      "             'video_backend': 'torchcodec'},\n",
      " 'env': None,\n",
      " 'eval': {'batch_size': 50, 'n_episodes': 50, 'use_async_envs': False},\n",
      " 'eval_freq': 20000,\n",
      " 'job_name': 'act_so100_test',\n",
      " 'log_freq': 200,\n",
      " 'num_workers': 4,\n",
      " 'optimizer': {'betas': [0.9, 0.999],\n",
      "               'eps': 1e-08,\n",
      "               'grad_clip_norm': 10.0,\n",
      "               'lr': 1e-05,\n",
      "               'type': 'adamw',\n",
      "               'weight_decay': 0.0001},\n",
      " 'output_dir': 'outputs/train/act_so100_test',\n",
      " 'policy': {'chunk_size': 100,\n",
      "            'device': 'cuda',\n",
      "            'dim_feedforward': 3200,\n",
      "            'dim_model': 512,\n",
      "            'dropout': 0.1,\n",
      "            'feedforward_activation': 'relu',\n",
      "            'input_features': {},\n",
      "            'kl_weight': 10.0,\n",
      "            'latent_dim': 32,\n",
      "            'n_action_steps': 100,\n",
      "            'n_decoder_layers': 1,\n",
      "            'n_encoder_layers': 4,\n",
      "            'n_heads': 8,\n",
      "            'n_obs_steps': 1,\n",
      "            'n_vae_encoder_layers': 4,\n",
      "            'normalization_mapping': {'ACTION': <NormalizationMode.MEAN_STD: 'MEAN_STD'>,\n",
      "                                      'STATE': <NormalizationMode.MEAN_STD: 'MEAN_STD'>,\n",
      "                                      'VISUAL': <NormalizationMode.MEAN_STD: 'MEAN_STD'>},\n",
      "            'optimizer_lr': 1e-05,\n",
      "            'optimizer_lr_backbone': 1e-05,\n",
      "            'optimizer_weight_decay': 0.0001,\n",
      "            'output_features': {},\n",
      "            'pre_norm': False,\n",
      "            'pretrained_backbone_weights': 'ResNet18_Weights.IMAGENET1K_V1',\n",
      "            'replace_final_stride_with_dilation': False,\n",
      "            'temporal_ensemble_coeff': None,\n",
      "            'type': 'act',\n",
      "            'use_amp': False,\n",
      "            'use_vae': True,\n",
      "            'vision_backbone': 'resnet18'},\n",
      " 'resume': False,\n",
      " 'save_checkpoint': True,\n",
      " 'save_freq': 20000,\n",
      " 'scheduler': None,\n",
      " 'seed': 1000,\n",
      " 'steps': 100000,\n",
      " 'use_policy_training_preset': True,\n",
      " 'wandb': {'disable_artifact': False,\n",
      "           'enable': False,\n",
      "           'entity': None,\n",
      "           'mode': None,\n",
      "           'notes': None,\n",
      "           'project': 'lerobot',\n",
      "           'run_id': None}}\n",
      "INFO 2025-04-12 13:33:30 ts/train.py:117 \u001b[1m\u001b[33mLogs will be saved locally.\u001b[0m\n",
      "INFO 2025-04-12 13:33:30 ts/train.py:127 Creating dataset\n",
      "INFO 2025-04-12 13:33:31 ts/train.py:138 Creating policy\n",
      "INFO 2025-04-12 13:33:32 ts/train.py:144 Creating optimizer and scheduler\n",
      "INFO 2025-04-12 13:33:32 ts/train.py:156 \u001b[1m\u001b[33mOutput dir:\u001b[0m outputs/train/act_so100_test\n",
      "INFO 2025-04-12 13:33:32 ts/train.py:159 cfg.steps=100000 (100K)\n",
      "INFO 2025-04-12 13:33:32 ts/train.py:160 dataset.num_frames=5100 (5K)\n",
      "INFO 2025-04-12 13:33:32 ts/train.py:161 dataset.num_episodes=12\n",
      "INFO 2025-04-12 13:33:32 ts/train.py:162 num_learnable_params=51597190 (52M)\n",
      "INFO 2025-04-12 13:33:32 ts/train.py:163 num_total_params=51597232 (52M)\n",
      "INFO 2025-04-12 13:33:32 ts/train.py:202 Start offline training on a fixed dataset\n",
      "INFO 2025-04-12 13:35:52 ts/train.py:232 step:200 smpl:2K ep:4 epch:0.31 loss:6.678 grdn:154.508 lr:1.0e-05 updt_s:0.688 data_s:0.008\n",
      "INFO 2025-04-12 13:37:53 ts/train.py:232 step:400 smpl:3K ep:8 epch:0.63 loss:2.945 grdn:86.063 lr:1.0e-05 updt_s:0.606 data_s:0.001\n",
      "INFO 2025-04-12 13:39:55 ts/train.py:232 step:600 smpl:5K ep:11 epch:0.94 loss:2.528 grdn:74.357 lr:1.0e-05 updt_s:0.607 data_s:0.000\n",
      "INFO 2025-04-12 13:42:12 ts/train.py:232 step:800 smpl:6K ep:15 epch:1.25 loss:2.222 grdn:67.375 lr:1.0e-05 updt_s:0.673 data_s:0.007\n",
      "INFO 2025-04-12 13:44:13 ts/train.py:232 step:1K smpl:8K ep:19 epch:1.57 loss:2.016 grdn:63.737 lr:1.0e-05 updt_s:0.606 data_s:0.000\n",
      "INFO 2025-04-12 13:46:15 ts/train.py:232 step:1K smpl:10K ep:23 epch:1.88 loss:1.819 grdn:60.380 lr:1.0e-05 updt_s:0.607 data_s:0.000\n",
      "INFO 2025-04-12 13:48:18 ts/train.py:232 step:1K smpl:11K ep:26 epch:2.20 loss:1.676 grdn:57.764 lr:1.0e-05 updt_s:0.604 data_s:0.007\n",
      "INFO 2025-04-12 13:50:20 ts/train.py:232 step:2K smpl:13K ep:30 epch:2.51 loss:1.545 grdn:53.796 lr:1.0e-05 updt_s:0.609 data_s:0.000\n",
      "INFO 2025-04-12 13:52:22 ts/train.py:232 step:2K smpl:14K ep:34 epch:2.82 loss:1.414 grdn:51.519 lr:1.0e-05 updt_s:0.608 data_s:0.000\n",
      "INFO 2025-04-12 13:54:25 ts/train.py:232 step:2K smpl:16K ep:38 epch:3.14 loss:1.287 grdn:48.874 lr:1.0e-05 updt_s:0.608 data_s:0.007\n",
      "INFO 2025-04-12 13:56:26 ts/train.py:232 step:2K smpl:18K ep:41 epch:3.45 loss:1.187 grdn:46.292 lr:1.0e-05 updt_s:0.606 data_s:0.000\n",
      "INFO 2025-04-12 13:58:28 ts/train.py:232 step:2K smpl:19K ep:45 epch:3.76 loss:1.077 grdn:42.971 lr:1.0e-05 updt_s:0.607 data_s:0.000\n",
      "INFO 2025-04-12 14:00:30 ts/train.py:232 step:3K smpl:21K ep:49 epch:4.08 loss:1.000 grdn:40.902 lr:1.0e-05 updt_s:0.605 data_s:0.006\n",
      "INFO 2025-04-12 14:02:32 ts/train.py:232 step:3K smpl:22K ep:53 epch:4.39 loss:0.914 grdn:38.078 lr:1.0e-05 updt_s:0.607 data_s:0.000\n",
      "INFO 2025-04-12 14:04:35 ts/train.py:232 step:3K smpl:24K ep:56 epch:4.71 loss:0.854 grdn:37.188 lr:1.0e-05 updt_s:0.610 data_s:0.000\n",
      "INFO 2025-04-12 14:08:39 ts/train.py:232 step:3K smpl:27K ep:64 epch:5.33 loss:0.739 grdn:33.148 lr:1.0e-05 updt_s:0.607 data_s:0.000\n",
      "INFO 2025-04-12 14:10:40 ts/train.py:232 step:4K smpl:29K ep:68 epch:5.65 loss:0.687 grdn:30.942 lr:1.0e-05 updt_s:0.606 data_s:0.000\n",
      "INFO 2025-04-12 14:12:42 ts/train.py:232 step:4K smpl:30K ep:72 epch:5.96 loss:0.646 grdn:29.783 lr:1.0e-05 updt_s:0.608 data_s:0.000\n",
      "INFO 2025-04-12 14:14:45 ts/train.py:232 step:4K smpl:32K ep:75 epch:6.27 loss:0.605 grdn:28.168 lr:1.0e-05 updt_s:0.606 data_s:0.007\n",
      "INFO 2025-04-12 14:16:47 ts/train.py:232 step:4K smpl:34K ep:79 epch:6.59 loss:0.568 grdn:26.976 lr:1.0e-05 updt_s:0.607 data_s:0.000\n",
      "INFO 2025-04-12 14:18:49 ts/train.py:232 step:4K smpl:35K ep:83 epch:6.90 loss:0.559 grdn:25.365 lr:1.0e-05 updt_s:0.608 data_s:0.000\n",
      "INFO 2025-04-12 14:20:51 ts/train.py:232 step:5K smpl:37K ep:87 epch:7.22 loss:0.525 grdn:24.424 lr:1.0e-05 updt_s:0.606 data_s:0.006\n",
      "INFO 2025-04-12 14:22:53 ts/train.py:232 step:5K smpl:38K ep:90 epch:7.53 loss:0.498 grdn:23.620 lr:1.0e-05 updt_s:0.606 data_s:0.000\n",
      "INFO 2025-04-12 14:24:54 ts/train.py:232 step:5K smpl:40K ep:94 epch:7.84 loss:0.482 grdn:22.333 lr:1.0e-05 updt_s:0.606 data_s:0.000\n",
      "INFO 2025-04-12 14:26:57 ts/train.py:232 step:5K smpl:42K ep:98 epch:8.16 loss:0.462 grdn:21.750 lr:1.0e-05 updt_s:0.604 data_s:0.007\n",
      "INFO 2025-04-12 14:28:58 ts/train.py:232 step:5K smpl:43K ep:102 epch:8.47 loss:0.442 grdn:20.859 lr:1.0e-05 updt_s:0.605 data_s:0.000\n",
      "INFO 2025-04-12 14:30:59 ts/train.py:232 step:6K smpl:45K ep:105 epch:8.78 loss:0.438 grdn:20.158 lr:1.0e-05 updt_s:0.606 data_s:0.000\n",
      "INFO 2025-04-12 14:33:01 ts/train.py:232 step:6K smpl:46K ep:109 epch:9.10 loss:0.420 grdn:19.482 lr:1.0e-05 updt_s:0.603 data_s:0.007\n",
      "INFO 2025-04-12 14:35:03 ts/train.py:232 step:6K smpl:48K ep:113 epch:9.41 loss:0.418 grdn:18.984 lr:1.0e-05 updt_s:0.607 data_s:0.000\n",
      "INFO 2025-04-12 14:37:04 ts/train.py:232 step:6K smpl:50K ep:117 epch:9.73 loss:0.395 grdn:18.188 lr:1.0e-05 updt_s:0.605 data_s:0.000\n",
      "INFO 2025-04-12 14:39:07 ts/train.py:232 step:6K smpl:51K ep:120 epch:10.04 loss:0.383 grdn:18.117 lr:1.0e-05 updt_s:0.604 data_s:0.008\n",
      "INFO 2025-04-12 14:41:08 ts/train.py:232 step:7K smpl:53K ep:124 epch:10.35 loss:0.378 grdn:17.840 lr:1.0e-05 updt_s:0.606 data_s:0.000\n",
      "INFO 2025-04-12 14:43:09 ts/train.py:232 step:7K smpl:54K ep:128 epch:10.67 loss:0.379 grdn:17.483 lr:1.0e-05 updt_s:0.605 data_s:0.000\n",
      "INFO 2025-04-12 14:45:11 ts/train.py:232 step:7K smpl:56K ep:132 epch:10.98 loss:0.371 grdn:17.436 lr:1.0e-05 updt_s:0.606 data_s:0.000\n",
      "INFO 2025-04-12 14:47:13 ts/train.py:232 step:7K smpl:58K ep:136 epch:11.29 loss:0.360 grdn:16.655 lr:1.0e-05 updt_s:0.604 data_s:0.007\n",
      "INFO 2025-04-12 14:49:14 ts/train.py:232 step:7K smpl:59K ep:139 epch:11.61 loss:0.358 grdn:16.749 lr:1.0e-05 updt_s:0.606 data_s:0.000\n",
      "INFO 2025-04-12 14:51:16 ts/train.py:232 step:8K smpl:61K ep:143 epch:11.92 loss:0.347 grdn:16.331 lr:1.0e-05 updt_s:0.606 data_s:0.000\n",
      "INFO 2025-04-12 14:53:18 ts/train.py:232 step:8K smpl:62K ep:147 epch:12.24 loss:0.334 grdn:16.084 lr:1.0e-05 updt_s:0.604 data_s:0.007\n",
      "INFO 2025-04-12 14:55:20 ts/train.py:232 step:8K smpl:64K ep:151 epch:12.55 loss:0.330 grdn:15.537 lr:1.0e-05 updt_s:0.606 data_s:0.000\n",
      "INFO 2025-04-12 14:57:21 ts/train.py:232 step:8K smpl:66K ep:154 epch:12.86 loss:0.332 grdn:15.337 lr:1.0e-05 updt_s:0.605 data_s:0.000\n",
      "INFO 2025-04-12 14:59:23 ts/train.py:232 step:8K smpl:67K ep:158 epch:13.18 loss:0.333 grdn:15.256 lr:1.0e-05 updt_s:0.604 data_s:0.007\n",
      "INFO 2025-04-12 15:01:25 ts/train.py:232 step:9K smpl:69K ep:162 epch:13.49 loss:0.323 grdn:14.866 lr:1.0e-05 updt_s:0.606 data_s:0.000\n",
      "INFO 2025-04-12 15:03:26 ts/train.py:232 step:9K smpl:70K ep:166 epch:13.80 loss:0.311 grdn:15.325 lr:1.0e-05 updt_s:0.605 data_s:0.000\n",
      "INFO 2025-04-12 15:05:28 ts/train.py:232 step:9K smpl:72K ep:169 epch:14.12 loss:0.315 grdn:14.848 lr:1.0e-05 updt_s:0.604 data_s:0.006\n",
      "INFO 2025-04-12 15:07:30 ts/train.py:232 step:9K smpl:74K ep:173 epch:14.43 loss:0.309 grdn:14.606 lr:1.0e-05 updt_s:0.605 data_s:0.000\n",
      "INFO 2025-04-12 15:09:31 ts/train.py:232 step:9K smpl:75K ep:177 epch:14.75 loss:0.310 grdn:14.191 lr:1.0e-05 updt_s:0.606 data_s:0.000\n",
      "INFO 2025-04-12 15:11:33 ts/train.py:232 step:10K smpl:77K ep:181 epch:15.06 loss:0.298 grdn:14.398 lr:1.0e-05 updt_s:0.604 data_s:0.006\n",
      "INFO 2025-04-12 15:13:35 ts/train.py:232 step:10K smpl:78K ep:184 epch:15.37 loss:0.298 grdn:14.454 lr:1.0e-05 updt_s:0.605 data_s:0.000\n",
      "INFO 2025-04-12 15:15:36 ts/train.py:232 step:10K smpl:80K ep:188 epch:15.69 loss:0.293 grdn:14.433 lr:1.0e-05 updt_s:0.606 data_s:0.000\n",
      "INFO 2025-04-12 15:17:37 ts/train.py:232 step:10K smpl:82K ep:192 epch:16.00 loss:0.295 grdn:13.804 lr:1.0e-05 updt_s:0.605 data_s:0.000\n",
      "INFO 2025-04-12 15:19:40 ts/train.py:232 step:10K smpl:83K ep:196 epch:16.31 loss:0.298 grdn:14.278 lr:1.0e-05 updt_s:0.604 data_s:0.007\n",
      "INFO 2025-04-12 15:21:41 ts/train.py:232 step:11K smpl:85K ep:200 epch:16.63 loss:0.287 grdn:13.885 lr:1.0e-05 updt_s:0.605 data_s:0.000\n",
      "INFO 2025-04-12 15:23:42 ts/train.py:232 step:11K smpl:86K ep:203 epch:16.94 loss:0.281 grdn:13.749 lr:1.0e-05 updt_s:0.606 data_s:0.000\n",
      "INFO 2025-04-12 15:25:45 ts/train.py:232 step:11K smpl:88K ep:207 epch:17.25 loss:0.278 grdn:13.560 lr:1.0e-05 updt_s:0.603 data_s:0.007\n",
      "INFO 2025-04-12 15:27:46 ts/train.py:232 step:11K smpl:90K ep:211 epch:17.57 loss:0.274 grdn:12.916 lr:1.0e-05 updt_s:0.606 data_s:0.000\n",
      "INFO 2025-04-12 15:29:47 ts/train.py:232 step:11K smpl:91K ep:215 epch:17.88 loss:0.276 grdn:13.174 lr:1.0e-05 updt_s:0.605 data_s:0.000\n",
      "INFO 2025-04-12 15:31:50 ts/train.py:232 step:12K smpl:93K ep:218 epch:18.20 loss:0.272 grdn:13.371 lr:1.0e-05 updt_s:0.604 data_s:0.006\n",
      "INFO 2025-04-12 15:33:51 ts/train.py:232 step:12K smpl:94K ep:222 epch:18.51 loss:0.267 grdn:13.322 lr:1.0e-05 updt_s:0.606 data_s:0.000\n",
      "INFO 2025-04-12 15:35:52 ts/train.py:232 step:12K smpl:96K ep:226 epch:18.82 loss:0.266 grdn:12.533 lr:1.0e-05 updt_s:0.605 data_s:0.000\n",
      "INFO 2025-04-12 15:37:55 ts/train.py:232 step:12K smpl:98K ep:230 epch:19.14 loss:0.269 grdn:12.880 lr:1.0e-05 updt_s:0.604 data_s:0.006\n",
      "INFO 2025-04-12 15:39:56 ts/train.py:232 step:12K smpl:99K ep:233 epch:19.45 loss:0.267 grdn:13.110 lr:1.0e-05 updt_s:0.606 data_s:0.000\n",
      "INFO 2025-04-12 15:41:57 ts/train.py:232 step:13K smpl:101K ep:237 epch:19.76 loss:0.259 grdn:13.093 lr:1.0e-05 updt_s:0.604 data_s:0.000\n",
      "INFO 2025-04-12 15:43:59 ts/train.py:232 step:13K smpl:102K ep:241 epch:20.08 loss:0.256 grdn:12.941 lr:1.0e-05 updt_s:0.604 data_s:0.006\n",
      "INFO 2025-04-12 15:46:01 ts/train.py:232 step:13K smpl:104K ep:245 epch:20.39 loss:0.258 grdn:13.107 lr:1.0e-05 updt_s:0.605 data_s:0.000\n",
      "INFO 2025-04-12 15:48:02 ts/train.py:232 step:13K smpl:106K ep:248 epch:20.71 loss:0.250 grdn:12.489 lr:1.0e-05 updt_s:0.605 data_s:0.000\n",
      "INFO 2025-04-12 15:50:04 ts/train.py:232 step:13K smpl:107K ep:252 epch:21.02 loss:0.256 grdn:13.076 lr:1.0e-05 updt_s:0.604 data_s:0.006\n",
      "INFO 2025-04-12 15:52:06 ts/train.py:232 step:14K smpl:109K ep:256 epch:21.33 loss:0.247 grdn:12.609 lr:1.0e-05 updt_s:0.606 data_s:0.000\n",
      "INFO 2025-04-12 15:54:07 ts/train.py:232 step:14K smpl:110K ep:260 epch:21.65 loss:0.250 grdn:13.363 lr:1.0e-05 updt_s:0.605 data_s:0.000\n",
      "INFO 2025-04-12 15:56:08 ts/train.py:232 step:14K smpl:112K ep:264 epch:21.96 loss:0.247 grdn:12.887 lr:1.0e-05 updt_s:0.606 data_s:0.000\n",
      "INFO 2025-04-12 15:58:11 ts/train.py:232 step:14K smpl:114K ep:267 epch:22.27 loss:0.247 grdn:13.281 lr:1.0e-05 updt_s:0.605 data_s:0.007\n",
      "INFO 2025-04-12 16:00:12 ts/train.py:232 step:14K smpl:115K ep:271 epch:22.59 loss:0.244 grdn:13.523 lr:1.0e-05 updt_s:0.606 data_s:0.000\n",
      "INFO 2025-04-12 16:02:13 ts/train.py:232 step:15K smpl:117K ep:275 epch:22.90 loss:0.239 grdn:13.172 lr:1.0e-05 updt_s:0.605 data_s:0.000\n",
      "INFO 2025-04-12 16:04:16 ts/train.py:232 step:15K smpl:118K ep:279 epch:23.22 loss:0.237 grdn:13.004 lr:1.0e-05 updt_s:0.604 data_s:0.007\n",
      "INFO 2025-04-12 16:06:17 ts/train.py:232 step:15K smpl:120K ep:282 epch:23.53 loss:0.236 grdn:13.424 lr:1.0e-05 updt_s:0.605 data_s:0.000\n",
      "INFO 2025-04-12 16:08:18 ts/train.py:232 step:15K smpl:122K ep:286 epch:23.84 loss:0.240 grdn:12.994 lr:1.0e-05 updt_s:0.606 data_s:0.000\n",
      "INFO 2025-04-12 16:10:21 ts/train.py:232 step:15K smpl:123K ep:290 epch:24.16 loss:0.233 grdn:12.607 lr:1.0e-05 updt_s:0.604 data_s:0.007\n",
      "INFO 2025-04-12 16:12:22 ts/train.py:232 step:16K smpl:125K ep:294 epch:24.47 loss:0.236 grdn:13.227 lr:1.0e-05 updt_s:0.605 data_s:0.000\n",
      "INFO 2025-04-12 16:14:23 ts/train.py:232 step:16K smpl:126K ep:297 epch:24.78 loss:0.232 grdn:13.028 lr:1.0e-05 updt_s:0.605 data_s:0.000\n",
      "INFO 2025-04-12 16:16:26 ts/train.py:232 step:16K smpl:128K ep:301 epch:25.10 loss:0.223 grdn:12.862 lr:1.0e-05 updt_s:0.604 data_s:0.006\n",
      "INFO 2025-04-12 16:18:27 ts/train.py:232 step:16K smpl:130K ep:305 epch:25.41 loss:0.233 grdn:13.362 lr:1.0e-05 updt_s:0.606 data_s:0.000\n",
      "INFO 2025-04-12 16:20:28 ts/train.py:232 step:16K smpl:131K ep:309 epch:25.73 loss:0.228 grdn:12.657 lr:1.0e-05 updt_s:0.606 data_s:0.000\n",
      "INFO 2025-04-12 16:22:31 ts/train.py:232 step:17K smpl:133K ep:312 epch:26.04 loss:0.222 grdn:13.245 lr:1.0e-05 updt_s:0.604 data_s:0.006\n",
      "INFO 2025-04-12 16:24:32 ts/train.py:232 step:17K smpl:134K ep:316 epch:26.35 loss:0.223 grdn:12.820 lr:1.0e-05 updt_s:0.606 data_s:0.000\n",
      "INFO 2025-04-12 16:26:33 ts/train.py:232 step:17K smpl:136K ep:320 epch:26.67 loss:0.224 grdn:13.413 lr:1.0e-05 updt_s:0.605 data_s:0.000\n",
      "INFO 2025-04-12 16:28:35 ts/train.py:232 step:17K smpl:138K ep:324 epch:26.98 loss:0.217 grdn:13.593 lr:1.0e-05 updt_s:0.606 data_s:0.000\n",
      "INFO 2025-04-12 16:30:37 ts/train.py:232 step:17K smpl:139K ep:328 epch:27.29 loss:0.221 grdn:13.789 lr:1.0e-05 updt_s:0.603 data_s:0.007\n",
      "INFO 2025-04-12 16:32:38 ts/train.py:232 step:18K smpl:141K ep:331 epch:27.61 loss:0.215 grdn:13.148 lr:1.0e-05 updt_s:0.606 data_s:0.000\n",
      "INFO 2025-04-12 16:34:40 ts/train.py:232 step:18K smpl:142K ep:335 epch:27.92 loss:0.219 grdn:13.618 lr:1.0e-05 updt_s:0.605 data_s:0.000\n",
      "INFO 2025-04-12 16:36:42 ts/train.py:232 step:18K smpl:144K ep:339 epch:28.24 loss:0.213 grdn:13.662 lr:1.0e-05 updt_s:0.605 data_s:0.007\n",
      "INFO 2025-04-12 16:38:43 ts/train.py:232 step:18K smpl:146K ep:343 epch:28.55 loss:0.213 grdn:12.719 lr:1.0e-05 updt_s:0.604 data_s:0.000\n",
      "INFO 2025-04-12 16:40:45 ts/train.py:232 step:18K smpl:147K ep:346 epch:28.86 loss:0.214 grdn:13.890 lr:1.0e-05 updt_s:0.606 data_s:0.000\n",
      "INFO 2025-04-12 16:42:47 ts/train.py:232 step:19K smpl:149K ep:350 epch:29.18 loss:0.207 grdn:13.695 lr:1.0e-05 updt_s:0.605 data_s:0.006\n",
      "INFO 2025-04-12 16:44:48 ts/train.py:232 step:19K smpl:150K ep:354 epch:29.49 loss:0.203 grdn:13.863 lr:1.0e-05 updt_s:0.605 data_s:0.000\n",
      "INFO 2025-04-12 16:46:50 ts/train.py:232 step:19K smpl:152K ep:358 epch:29.80 loss:0.212 grdn:13.608 lr:1.0e-05 updt_s:0.606 data_s:0.000\n",
      "INFO 2025-04-12 16:48:52 ts/train.py:232 step:19K smpl:154K ep:361 epch:30.12 loss:0.206 grdn:13.643 lr:1.0e-05 updt_s:0.603 data_s:0.007\n",
      "INFO 2025-04-12 16:50:53 ts/train.py:232 step:19K smpl:155K ep:365 epch:30.43 loss:0.205 grdn:14.268 lr:1.0e-05 updt_s:0.606 data_s:0.000\n",
      "INFO 2025-04-12 16:52:55 ts/train.py:232 step:20K smpl:157K ep:369 epch:30.75 loss:0.207 grdn:13.467 lr:1.0e-05 updt_s:0.606 data_s:0.000\n",
      "INFO 2025-04-12 16:54:57 ts/train.py:232 step:20K smpl:158K ep:373 epch:31.06 loss:0.207 grdn:14.091 lr:1.0e-05 updt_s:0.604 data_s:0.007\n",
      "INFO 2025-04-12 16:56:58 ts/train.py:232 step:20K smpl:160K ep:376 epch:31.37 loss:0.210 grdn:14.668 lr:1.0e-05 updt_s:0.605 data_s:0.000\n",
      "INFO 2025-04-12 16:56:58 ts/train.py:241 Checkpoint policy after step 20000\n",
      "INFO 2025-04-12 16:59:01 ts/train.py:232 step:20K smpl:162K ep:380 epch:31.69 loss:0.197 grdn:14.467 lr:1.0e-05 updt_s:0.605 data_s:0.000\n",
      "INFO 2025-04-12 17:01:02 ts/train.py:232 step:20K smpl:163K ep:384 epch:32.00 loss:0.195 grdn:12.905 lr:1.0e-05 updt_s:0.606 data_s:0.000\n",
      "INFO 2025-04-12 17:03:04 ts/train.py:232 step:21K smpl:165K ep:388 epch:32.31 loss:0.201 grdn:14.394 lr:1.0e-05 updt_s:0.604 data_s:0.006\n",
      "INFO 2025-04-12 17:05:06 ts/train.py:232 step:21K smpl:166K ep:392 epch:32.63 loss:0.191 grdn:13.567 lr:1.0e-05 updt_s:0.605 data_s:0.000\n",
      "INFO 2025-04-12 17:07:07 ts/train.py:232 step:21K smpl:168K ep:395 epch:32.94 loss:0.195 grdn:13.937 lr:1.0e-05 updt_s:0.606 data_s:0.000\n",
      "INFO 2025-04-12 17:09:10 ts/train.py:232 step:21K smpl:170K ep:399 epch:33.25 loss:0.194 grdn:13.913 lr:1.0e-05 updt_s:0.604 data_s:0.007\n",
      "INFO 2025-04-12 17:11:11 ts/train.py:232 step:21K smpl:171K ep:403 epch:33.57 loss:0.188 grdn:12.963 lr:1.0e-05 updt_s:0.606 data_s:0.000\n",
      "INFO 2025-04-12 17:13:12 ts/train.py:232 step:22K smpl:173K ep:407 epch:33.88 loss:0.199 grdn:13.840 lr:1.0e-05 updt_s:0.606 data_s:0.000\n",
      "INFO 2025-04-12 17:15:15 ts/train.py:232 step:22K smpl:174K ep:410 epch:34.20 loss:0.193 grdn:13.315 lr:1.0e-05 updt_s:0.604 data_s:0.008\n",
      "INFO 2025-04-12 17:17:16 ts/train.py:232 step:22K smpl:176K ep:414 epch:34.51 loss:0.191 grdn:13.366 lr:1.0e-05 updt_s:0.606 data_s:0.000\n",
      "INFO 2025-04-12 17:19:18 ts/train.py:232 step:22K smpl:178K ep:418 epch:34.82 loss:0.190 grdn:13.196 lr:1.0e-05 updt_s:0.606 data_s:0.000\n",
      "INFO 2025-04-12 17:21:20 ts/train.py:232 step:22K smpl:179K ep:422 epch:35.14 loss:0.187 grdn:14.286 lr:1.0e-05 updt_s:0.604 data_s:0.006\n",
      "INFO 2025-04-12 17:23:21 ts/train.py:232 step:23K smpl:181K ep:425 epch:35.45 loss:0.187 grdn:14.700 lr:1.0e-05 updt_s:0.606 data_s:0.000\n",
      "INFO 2025-04-12 17:25:23 ts/train.py:232 step:23K smpl:182K ep:429 epch:35.76 loss:0.188 grdn:13.297 lr:1.0e-05 updt_s:0.606 data_s:0.000\n",
      "INFO 2025-04-12 17:27:25 ts/train.py:232 step:23K smpl:184K ep:433 epch:36.08 loss:0.186 grdn:13.697 lr:1.0e-05 updt_s:0.604 data_s:0.006\n",
      "INFO 2025-04-12 17:29:26 ts/train.py:232 step:23K smpl:186K ep:437 epch:36.39 loss:0.182 grdn:13.917 lr:1.0e-05 updt_s:0.605 data_s:0.000\n",
      "INFO 2025-04-12 17:31:28 ts/train.py:232 step:23K smpl:187K ep:440 epch:36.71 loss:0.183 grdn:14.437 lr:1.0e-05 updt_s:0.605 data_s:0.000\n",
      "INFO 2025-04-12 17:33:29 ts/train.py:232 step:24K smpl:189K ep:444 epch:37.02 loss:0.182 grdn:13.391 lr:1.0e-05 updt_s:0.605 data_s:0.000\n",
      "INFO 2025-04-12 17:35:31 ts/train.py:232 step:24K smpl:190K ep:448 epch:37.33 loss:0.178 grdn:13.183 lr:1.0e-05 updt_s:0.604 data_s:0.007\n",
      "INFO 2025-04-12 17:37:33 ts/train.py:232 step:24K smpl:192K ep:452 epch:37.65 loss:0.178 grdn:13.636 lr:1.0e-05 updt_s:0.605 data_s:0.000\n",
      "INFO 2025-04-12 17:39:34 ts/train.py:232 step:24K smpl:194K ep:456 epch:37.96 loss:0.181 grdn:14.385 lr:1.0e-05 updt_s:0.606 data_s:0.000\n",
      "INFO 2025-04-12 17:41:36 ts/train.py:232 step:24K smpl:195K ep:459 epch:38.27 loss:0.176 grdn:13.985 lr:1.0e-05 updt_s:0.603 data_s:0.007\n",
      "INFO 2025-04-12 17:43:38 ts/train.py:232 step:25K smpl:197K ep:463 epch:38.59 loss:0.177 grdn:14.277 lr:1.0e-05 updt_s:0.605 data_s:0.000\n",
      "INFO 2025-04-12 17:45:39 ts/train.py:232 step:25K smpl:198K ep:467 epch:38.90 loss:0.178 grdn:13.289 lr:1.0e-05 updt_s:0.605 data_s:0.000\n",
      "INFO 2025-04-12 17:47:42 ts/train.py:232 step:25K smpl:200K ep:471 epch:39.22 loss:0.172 grdn:13.358 lr:1.0e-05 updt_s:0.604 data_s:0.008\n",
      "INFO 2025-04-12 17:49:43 ts/train.py:232 step:25K smpl:202K ep:474 epch:39.53 loss:0.176 grdn:14.378 lr:1.0e-05 updt_s:0.605 data_s:0.000\n",
      "INFO 2025-04-12 17:51:44 ts/train.py:232 step:25K smpl:203K ep:478 epch:39.84 loss:0.173 grdn:14.129 lr:1.0e-05 updt_s:0.605 data_s:0.000\n",
      "INFO 2025-04-12 17:53:47 ts/train.py:232 step:26K smpl:205K ep:482 epch:40.16 loss:0.176 grdn:15.683 lr:1.0e-05 updt_s:0.605 data_s:0.007\n",
      "INFO 2025-04-12 17:55:48 ts/train.py:232 step:26K smpl:206K ep:486 epch:40.47 loss:0.172 grdn:13.778 lr:1.0e-05 updt_s:0.606 data_s:0.000\n",
      "INFO 2025-04-12 17:57:49 ts/train.py:232 step:26K smpl:208K ep:489 epch:40.78 loss:0.166 grdn:13.889 lr:1.0e-05 updt_s:0.605 data_s:0.000\n",
      "INFO 2025-04-12 17:59:52 ts/train.py:232 step:26K smpl:210K ep:493 epch:41.10 loss:0.171 grdn:14.206 lr:1.0e-05 updt_s:0.604 data_s:0.007\n",
      "INFO 2025-04-12 18:01:53 ts/train.py:232 step:26K smpl:211K ep:497 epch:41.41 loss:0.170 grdn:14.159 lr:1.0e-05 updt_s:0.605 data_s:0.000\n",
      "INFO 2025-04-12 18:03:54 ts/train.py:232 step:27K smpl:213K ep:501 epch:41.73 loss:0.170 grdn:14.060 lr:1.0e-05 updt_s:0.605 data_s:0.000\n",
      "INFO 2025-04-12 18:05:57 ts/train.py:232 step:27K smpl:214K ep:504 epch:42.04 loss:0.161 grdn:14.058 lr:1.0e-05 updt_s:0.604 data_s:0.008\n",
      "INFO 2025-04-12 18:07:58 ts/train.py:232 step:27K smpl:216K ep:508 epch:42.35 loss:0.169 grdn:13.782 lr:1.0e-05 updt_s:0.605 data_s:0.000\n",
      "INFO 2025-04-12 18:09:59 ts/train.py:232 step:27K smpl:218K ep:512 epch:42.67 loss:0.162 grdn:13.870 lr:1.0e-05 updt_s:0.606 data_s:0.000\n",
      "INFO 2025-04-12 18:12:01 ts/train.py:232 step:27K smpl:219K ep:516 epch:42.98 loss:0.166 grdn:14.694 lr:1.0e-05 updt_s:0.605 data_s:0.000\n",
      "INFO 2025-04-12 18:14:03 ts/train.py:232 step:28K smpl:221K ep:520 epch:43.29 loss:0.160 grdn:13.673 lr:1.0e-05 updt_s:0.604 data_s:0.006\n",
      "INFO 2025-04-12 18:16:04 ts/train.py:232 step:28K smpl:222K ep:523 epch:43.61 loss:0.158 grdn:13.680 lr:1.0e-05 updt_s:0.605 data_s:0.000\n",
      "INFO 2025-04-12 18:18:06 ts/train.py:232 step:28K smpl:224K ep:527 epch:43.92 loss:0.163 grdn:14.489 lr:1.0e-05 updt_s:0.606 data_s:0.000\n",
      "INFO 2025-04-12 18:20:08 ts/train.py:232 step:28K smpl:226K ep:531 epch:44.24 loss:0.161 grdn:13.690 lr:1.0e-05 updt_s:0.604 data_s:0.006\n",
      "INFO 2025-04-12 18:22:09 ts/train.py:232 step:28K smpl:227K ep:535 epch:44.55 loss:0.161 grdn:14.783 lr:1.0e-05 updt_s:0.606 data_s:0.000\n",
      "INFO 2025-04-12 18:24:11 ts/train.py:232 step:29K smpl:229K ep:538 epch:44.86 loss:0.157 grdn:13.941 lr:1.0e-05 updt_s:0.605 data_s:0.000\n",
      "INFO 2025-04-12 18:26:13 ts/train.py:232 step:29K smpl:230K ep:542 epch:45.18 loss:0.160 grdn:14.022 lr:1.0e-05 updt_s:0.604 data_s:0.006\n",
      "INFO 2025-04-12 18:28:14 ts/train.py:232 step:29K smpl:232K ep:546 epch:45.49 loss:0.156 grdn:14.326 lr:1.0e-05 updt_s:0.605 data_s:0.000\n",
      "INFO 2025-04-12 18:30:15 ts/train.py:232 step:29K smpl:234K ep:550 epch:45.80 loss:0.155 grdn:13.008 lr:1.0e-05 updt_s:0.605 data_s:0.000\n",
      "INFO 2025-04-12 18:32:18 ts/train.py:232 step:29K smpl:235K ep:553 epch:46.12 loss:0.152 grdn:14.133 lr:1.0e-05 updt_s:0.604 data_s:0.007\n",
      "INFO 2025-04-12 18:34:19 ts/train.py:232 step:30K smpl:237K ep:557 epch:46.43 loss:0.154 grdn:14.833 lr:1.0e-05 updt_s:0.605 data_s:0.000\n",
      "INFO 2025-04-12 18:36:20 ts/train.py:232 step:30K smpl:238K ep:561 epch:46.75 loss:0.152 grdn:13.760 lr:1.0e-05 updt_s:0.605 data_s:0.000\n",
      "INFO 2025-04-12 18:38:23 ts/train.py:232 step:30K smpl:240K ep:565 epch:47.06 loss:0.154 grdn:14.017 lr:1.0e-05 updt_s:0.604 data_s:0.006\n",
      "INFO 2025-04-12 18:40:24 ts/train.py:232 step:30K smpl:242K ep:568 epch:47.37 loss:0.153 grdn:13.867 lr:1.0e-05 updt_s:0.605 data_s:0.000\n",
      "INFO 2025-04-12 18:42:25 ts/train.py:232 step:30K smpl:243K ep:572 epch:47.69 loss:0.152 grdn:13.469 lr:1.0e-05 updt_s:0.605 data_s:0.000\n",
      "INFO 2025-04-12 18:44:27 ts/train.py:232 step:31K smpl:245K ep:576 epch:48.00 loss:0.147 grdn:13.588 lr:1.0e-05 updt_s:0.606 data_s:0.000\n",
      "INFO 2025-04-12 18:46:29 ts/train.py:232 step:31K smpl:246K ep:580 epch:48.31 loss:0.145 grdn:13.401 lr:1.0e-05 updt_s:0.603 data_s:0.006\n",
      "INFO 2025-04-12 18:48:30 ts/train.py:232 step:31K smpl:248K ep:584 epch:48.63 loss:0.149 grdn:13.726 lr:1.0e-05 updt_s:0.605 data_s:0.000\n",
      "INFO 2025-04-12 18:50:31 ts/train.py:232 step:31K smpl:250K ep:587 epch:48.94 loss:0.147 grdn:14.230 lr:1.0e-05 updt_s:0.605 data_s:0.000\n",
      "INFO 2025-04-12 18:52:33 ts/train.py:232 step:31K smpl:251K ep:591 epch:49.25 loss:0.144 grdn:12.904 lr:1.0e-05 updt_s:0.604 data_s:0.007\n",
      "INFO 2025-04-12 18:54:35 ts/train.py:232 step:32K smpl:253K ep:595 epch:49.57 loss:0.145 grdn:13.737 lr:1.0e-05 updt_s:0.606 data_s:0.000\n",
      "INFO 2025-04-12 18:56:36 ts/train.py:232 step:32K smpl:254K ep:599 epch:49.88 loss:0.145 grdn:13.938 lr:1.0e-05 updt_s:0.605 data_s:0.000\n",
      "INFO 2025-04-12 18:58:38 ts/train.py:232 step:32K smpl:256K ep:602 epch:50.20 loss:0.142 grdn:13.164 lr:1.0e-05 updt_s:0.604 data_s:0.007\n",
      "INFO 2025-04-12 19:00:40 ts/train.py:232 step:32K smpl:258K ep:606 epch:50.51 loss:0.145 grdn:13.394 lr:1.0e-05 updt_s:0.606 data_s:0.000\n",
      "INFO 2025-04-12 19:02:41 ts/train.py:232 step:32K smpl:259K ep:610 epch:50.82 loss:0.139 grdn:14.023 lr:1.0e-05 updt_s:0.605 data_s:0.000\n",
      "INFO 2025-04-12 19:04:43 ts/train.py:232 step:33K smpl:261K ep:614 epch:51.14 loss:0.136 grdn:13.206 lr:1.0e-05 updt_s:0.604 data_s:0.007\n",
      "INFO 2025-04-12 19:06:45 ts/train.py:232 step:33K smpl:262K ep:617 epch:51.45 loss:0.138 grdn:14.036 lr:1.0e-05 updt_s:0.605 data_s:0.000\n",
      "INFO 2025-04-12 19:08:46 ts/train.py:232 step:33K smpl:264K ep:621 epch:51.76 loss:0.136 grdn:13.646 lr:1.0e-05 updt_s:0.605 data_s:0.000\n",
      "INFO 2025-04-12 19:10:48 ts/train.py:232 step:33K smpl:266K ep:625 epch:52.08 loss:0.137 grdn:12.998 lr:1.0e-05 updt_s:0.604 data_s:0.007\n",
      "INFO 2025-04-12 19:12:50 ts/train.py:232 step:33K smpl:267K ep:629 epch:52.39 loss:0.137 grdn:13.948 lr:1.0e-05 updt_s:0.606 data_s:0.000\n",
      "INFO 2025-04-12 19:14:51 ts/train.py:232 step:34K smpl:269K ep:632 epch:52.71 loss:0.132 grdn:12.498 lr:1.0e-05 updt_s:0.605 data_s:0.000\n",
      "INFO 2025-04-12 19:16:53 ts/train.py:232 step:34K smpl:270K ep:636 epch:53.02 loss:0.134 grdn:13.687 lr:1.0e-05 updt_s:0.606 data_s:0.000\n",
      "INFO 2025-04-12 19:18:55 ts/train.py:232 step:34K smpl:272K ep:640 epch:53.33 loss:0.132 grdn:13.668 lr:1.0e-05 updt_s:0.603 data_s:0.007\n",
      "INFO 2025-04-12 19:20:56 ts/train.py:232 step:34K smpl:274K ep:644 epch:53.65 loss:0.131 grdn:12.844 lr:1.0e-05 updt_s:0.606 data_s:0.000\n",
      "INFO 2025-04-12 19:22:57 ts/train.py:232 step:34K smpl:275K ep:648 epch:53.96 loss:0.135 grdn:13.410 lr:1.0e-05 updt_s:0.605 data_s:0.000\n",
      "INFO 2025-04-12 19:25:00 ts/train.py:232 step:35K smpl:277K ep:651 epch:54.27 loss:0.134 grdn:13.670 lr:1.0e-05 updt_s:0.604 data_s:0.007\n",
      "INFO 2025-04-12 19:27:01 ts/train.py:232 step:35K smpl:278K ep:655 epch:54.59 loss:0.130 grdn:13.250 lr:1.0e-05 updt_s:0.606 data_s:0.000\n",
      "INFO 2025-04-12 19:29:02 ts/train.py:232 step:35K smpl:280K ep:659 epch:54.90 loss:0.129 grdn:13.171 lr:1.0e-05 updt_s:0.605 data_s:0.000\n",
      "INFO 2025-04-12 19:31:05 ts/train.py:232 step:35K smpl:282K ep:663 epch:55.22 loss:0.128 grdn:12.795 lr:1.0e-05 updt_s:0.604 data_s:0.006\n",
      "INFO 2025-04-12 19:33:06 ts/train.py:232 step:35K smpl:283K ep:666 epch:55.53 loss:0.127 grdn:13.312 lr:1.0e-05 updt_s:0.605 data_s:0.000\n",
      "INFO 2025-04-12 19:35:07 ts/train.py:232 step:36K smpl:285K ep:670 epch:55.84 loss:0.126 grdn:13.478 lr:1.0e-05 updt_s:0.604 data_s:0.000\n",
      "INFO 2025-04-12 19:37:09 ts/train.py:232 step:36K smpl:286K ep:674 epch:56.16 loss:0.129 grdn:14.198 lr:1.0e-05 updt_s:0.604 data_s:0.006\n",
      "INFO 2025-04-12 19:39:11 ts/train.py:232 step:36K smpl:288K ep:678 epch:56.47 loss:0.123 grdn:13.238 lr:1.0e-05 updt_s:0.605 data_s:0.000\n",
      "INFO 2025-04-12 19:41:12 ts/train.py:232 step:36K smpl:290K ep:681 epch:56.78 loss:0.129 grdn:14.072 lr:1.0e-05 updt_s:0.605 data_s:0.000\n",
      "INFO 2025-04-12 19:43:14 ts/train.py:232 step:36K smpl:291K ep:685 epch:57.10 loss:0.124 grdn:12.429 lr:1.0e-05 updt_s:0.604 data_s:0.007\n",
      "INFO 2025-04-12 19:45:16 ts/train.py:232 step:37K smpl:293K ep:689 epch:57.41 loss:0.126 grdn:13.216 lr:1.0e-05 updt_s:0.605 data_s:0.000\n",
      "INFO 2025-04-12 19:47:17 ts/train.py:232 step:37K smpl:294K ep:693 epch:57.73 loss:0.122 grdn:12.645 lr:1.0e-05 updt_s:0.606 data_s:0.000\n",
      "INFO 2025-04-12 19:49:18 ts/train.py:232 step:37K smpl:296K ep:696 epch:58.04 loss:0.121 grdn:12.811 lr:1.0e-05 updt_s:0.605 data_s:0.000\n",
      "INFO 2025-04-12 19:51:21 ts/train.py:232 step:37K smpl:298K ep:700 epch:58.35 loss:0.122 grdn:13.292 lr:1.0e-05 updt_s:0.604 data_s:0.007\n",
      "INFO 2025-04-12 19:53:22 ts/train.py:232 step:37K smpl:299K ep:704 epch:58.67 loss:0.120 grdn:12.774 lr:1.0e-05 updt_s:0.605 data_s:0.000\n",
      "INFO 2025-04-12 19:55:23 ts/train.py:232 step:38K smpl:301K ep:708 epch:58.98 loss:0.123 grdn:13.148 lr:1.0e-05 updt_s:0.605 data_s:0.000\n",
      "INFO 2025-04-12 19:57:25 ts/train.py:232 step:38K smpl:302K ep:712 epch:59.29 loss:0.123 grdn:12.966 lr:1.0e-05 updt_s:0.603 data_s:0.007\n",
      "INFO 2025-04-12 19:59:27 ts/train.py:232 step:38K smpl:304K ep:715 epch:59.61 loss:0.120 grdn:12.801 lr:1.0e-05 updt_s:0.605 data_s:0.000\n",
      "INFO 2025-04-12 20:01:28 ts/train.py:232 step:38K smpl:306K ep:719 epch:59.92 loss:0.116 grdn:12.189 lr:1.0e-05 updt_s:0.605 data_s:0.000\n",
      "INFO 2025-04-12 20:03:30 ts/train.py:232 step:38K smpl:307K ep:723 epch:60.24 loss:0.113 grdn:11.958 lr:1.0e-05 updt_s:0.604 data_s:0.007\n",
      "INFO 2025-04-12 20:05:32 ts/train.py:232 step:39K smpl:309K ep:727 epch:60.55 loss:0.115 grdn:13.003 lr:1.0e-05 updt_s:0.605 data_s:0.000\n",
      "INFO 2025-04-12 20:07:33 ts/train.py:232 step:39K smpl:310K ep:730 epch:60.86 loss:0.117 grdn:13.132 lr:1.0e-05 updt_s:0.605 data_s:0.000\n",
      "INFO 2025-04-12 20:09:35 ts/train.py:232 step:39K smpl:312K ep:734 epch:61.18 loss:0.115 grdn:12.031 lr:1.0e-05 updt_s:0.604 data_s:0.007\n",
      "INFO 2025-04-12 20:11:37 ts/train.py:232 step:39K smpl:314K ep:738 epch:61.49 loss:0.114 grdn:12.127 lr:1.0e-05 updt_s:0.605 data_s:0.000\n",
      "INFO 2025-04-12 20:15:40 ts/train.py:232 step:40K smpl:317K ep:745 epch:62.12 loss:0.113 grdn:12.971 lr:1.0e-05 updt_s:0.604 data_s:0.007\n",
      "INFO 2025-04-12 20:17:42 ts/train.py:232 step:40K smpl:318K ep:749 epch:62.43 loss:0.115 grdn:13.560 lr:1.0e-05 updt_s:0.605 data_s:0.000\n",
      "INFO 2025-04-12 20:19:43 ts/train.py:232 step:40K smpl:320K ep:753 epch:62.75 loss:0.111 grdn:12.556 lr:1.0e-05 updt_s:0.606 data_s:0.000\n",
      "INFO 2025-04-12 20:19:43 ts/train.py:241 Checkpoint policy after step 40000\n",
      "INFO 2025-04-12 20:21:46 ts/train.py:232 step:40K smpl:322K ep:757 epch:63.06 loss:0.115 grdn:13.075 lr:1.0e-05 updt_s:0.604 data_s:0.006\n",
      "INFO 2025-04-12 20:23:48 ts/train.py:232 step:40K smpl:323K ep:760 epch:63.37 loss:0.109 grdn:12.205 lr:1.0e-05 updt_s:0.604 data_s:0.000\n",
      "INFO 2025-04-12 20:25:49 ts/train.py:232 step:41K smpl:325K ep:764 epch:63.69 loss:0.112 grdn:12.972 lr:1.0e-05 updt_s:0.605 data_s:0.000\n",
      "INFO 2025-04-12 20:27:50 ts/train.py:232 step:41K smpl:326K ep:768 epch:64.00 loss:0.109 grdn:12.885 lr:1.0e-05 updt_s:0.605 data_s:0.000\n",
      "^C\n"
     ]
    }
   ],
   "source": [
    "!uv run lerobot/scripts/train.py \\\n",
    "  --dataset.repo_id=rais/so100_test \\\n",
    "  --policy.type=act \\\n",
    "  --output_dir=outputs/train/act_so100_test \\\n",
    "  --job_name=act_so100_test \\\n",
    "  --policy.device=cuda \\\n",
    "  --wandb.enable=false \\\n",
    "  --save_checkpoint=true"
   ]
  }
 ],
 "metadata": {
  "kernelspec": {
   "display_name": "Python 3 (ipykernel)",
   "language": "python",
   "name": "python3"
  },
  "language_info": {
   "codemirror_mode": {
    "name": "ipython",
    "version": 3
   },
   "file_extension": ".py",
   "mimetype": "text/x-python",
   "name": "python",
   "nbconvert_exporter": "python",
   "pygments_lexer": "ipython3",
   "version": "3.10.8"
  }
 },
 "nbformat": 4,
 "nbformat_minor": 5
}
